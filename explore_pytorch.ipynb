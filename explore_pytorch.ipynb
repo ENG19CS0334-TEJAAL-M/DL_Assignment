{
  "nbformat": 4,
  "nbformat_minor": 0,
  "metadata": {
    "colab": {
      "name": "explore_pytorch.ipynb",
      "provenance": [],
      "authorship_tag": "ABX9TyOKnhmSGqywgCjh2xHIt49b",
      "include_colab_link": true
    },
    "kernelspec": {
      "name": "python3",
      "display_name": "Python 3"
    },
    "language_info": {
      "name": "python"
    }
  },
  "cells": [
    {
      "cell_type": "markdown",
      "metadata": {
        "id": "view-in-github",
        "colab_type": "text"
      },
      "source": [
        "<a href=\"https://colab.research.google.com/github/ENG19CS0334-TEJAAL-M/DL_Assignment/blob/main/explore_pytorch.ipynb\" target=\"_parent\"><img src=\"https://colab.research.google.com/assets/colab-badge.svg\" alt=\"Open In Colab\"/></a>"
      ]
    },
    {
      "cell_type": "markdown",
      "source": [
        "#**PY TORCH**\n",
        "https://www.analyticsvidhya.com/blog/2021/04/a-gentle-introduction-to-pytorch-library/\n",
        "\n",
        "\n",
        "https://youtu.be/RwaVqvZ3xo8\n",
        "\n",
        "1.PyTorch is an optimized tensor library primarily used for Deep Learining applications using gpu and cpu.\n",
        "\n",
        "2.Its an open source ML library for Python mainly developed by the Face book AI research team .\n",
        "\n"
      ],
      "metadata": {
        "id": "OWaS7Ab2ZulB"
      }
    },
    {
      "cell_type": "code",
      "execution_count": 2,
      "metadata": {
        "id": "ptEurXcuZrgL"
      },
      "outputs": [],
      "source": [
        "import torch"
      ]
    },
    {
      "cell_type": "markdown",
      "source": [
        "Creating tensors"
      ],
      "metadata": {
        "id": "3550ObBFfUkn"
      }
    },
    {
      "cell_type": "code",
      "source": [
        "#tensor with single number\n",
        "t1=torch.tensor(5.)\n",
        "print(t1)\n",
        "t1.dtype"
      ],
      "metadata": {
        "colab": {
          "base_uri": "https://localhost:8080/"
        },
        "id": "DkheA-1DfP1x",
        "outputId": "76f3cc0f-dcd5-4df3-9d3b-0abe51677e98"
      },
      "execution_count": 4,
      "outputs": [
        {
          "output_type": "stream",
          "name": "stdout",
          "text": [
            "tensor(5.)\n"
          ]
        },
        {
          "output_type": "execute_result",
          "data": {
            "text/plain": [
              "torch.float32"
            ]
          },
          "metadata": {},
          "execution_count": 4
        }
      ]
    },
    {
      "cell_type": "code",
      "source": [
        "#tensor with 1D vector\n",
        "t2=torch.tensor([1,2,3.,4])\n",
        "print(t2)\n",
        "#tebsor with 2d vector\n",
        "t3=torch.tensor([[1,2,3],[5,6,7]])\n",
        "print(t3)\n",
        "# print the shape \n",
        "print(t1.shape)# its dimension is 0 since its just a number\n",
        "print(t2.shape)\n",
        "print(t3.shape)"
      ],
      "metadata": {
        "colab": {
          "base_uri": "https://localhost:8080/"
        },
        "id": "gejJL0HnfwJ2",
        "outputId": "6bdfe4e0-39bc-41ab-a0e4-27e95b8a84db"
      },
      "execution_count": 10,
      "outputs": [
        {
          "output_type": "stream",
          "name": "stdout",
          "text": [
            "tensor([1., 2., 3., 4.])\n",
            "tensor([[1, 2, 3],\n",
            "        [5, 6, 7]])\n",
            "torch.Size([])\n",
            "torch.Size([4])\n",
            "torch.Size([2, 3])\n"
          ]
        }
      ]
    },
    {
      "cell_type": "markdown",
      "source": [
        "Some tensor operations and  computing gradients\n"
      ],
      "metadata": {
        "id": "xzlbecrsjFif"
      }
    },
    {
      "cell_type": "code",
      "source": [
        "#requires_grad indicates whether a variable is trainable. \n",
        "x=torch.tensor(3.)\n",
        "y=torch.tensor(6.,requires_grad=True)\n",
        "z=torch.tensor(4.,requires_grad=True)\n",
        "x,y,z\n",
        "w=x*y+z\n",
        "print(w)\n"
      ],
      "metadata": {
        "colab": {
          "base_uri": "https://localhost:8080/"
        },
        "id": "sljihjM7gE0n",
        "outputId": "adf2ec6c-9ac6-4e13-c146-158248080b16"
      },
      "execution_count": 14,
      "outputs": [
        {
          "output_type": "stream",
          "name": "stdout",
          "text": [
            "tensor(22., grad_fn=<AddBackward0>)\n"
          ]
        }
      ]
    },
    {
      "cell_type": "markdown",
      "source": [
        "AutoGrad\n",
        "\n",
        "- unique ability of Pytorch which can automatically compute the derivative of any expression\n",
        "\n",
        "We can observe the following:\n",
        "\n",
        "* the value of the derivative of w wrt x is** None** as the parameter requires_grad is set to False\n",
        "* the value of the derivative of y wrt w is 3 as dw/dy = x = 3\n",
        "* the value of the derivative of y wrt  z is 1 as dw/dz = 1"
      ],
      "metadata": {
        "id": "dFPOBdGnkTIE"
      }
    },
    {
      "cell_type": "code",
      "source": [
        "#Compute derivatives\n",
        "w.backward()"
      ],
      "metadata": {
        "id": "4HiTI3ugjyI_"
      },
      "execution_count": 15,
      "outputs": []
    },
    {
      "cell_type": "code",
      "source": [
        "print(\"dw/dx =\", x.grad)\n",
        "print(\"dw/dy =\", y.grad)\n",
        "print(\"dw/dz =\", z.grad)"
      ],
      "metadata": {
        "colab": {
          "base_uri": "https://localhost:8080/"
        },
        "id": "a9JH0d1qkdBr",
        "outputId": "4a06aab0-cea1-43fb-ca3e-cf07bba257e2"
      },
      "execution_count": 16,
      "outputs": [
        {
          "output_type": "stream",
          "name": "stdout",
          "text": [
            "dw/dx = None\n",
            "dw/dy = tensor(3.)\n",
            "dw/dz = tensor(1.)\n"
          ]
        }
      ]
    },
    {
      "cell_type": "markdown",
      "source": [
        "PyTorch with NumPy\n",
        "-  Numpy is an opensource library used for scientific and mathematical computing in python\n",
        "- Numpy has vast supporting libraries such as pandas,opencv,matplotlib"
      ],
      "metadata": {
        "id": "OjKxhyI5l4Jd"
      }
    },
    {
      "cell_type": "code",
      "source": [
        "#first create numpy array\n",
        "import numpy as np\n",
        "q=np.array([1 ,2 ,3.,4])\n",
        "print(q)"
      ],
      "metadata": {
        "colab": {
          "base_uri": "https://localhost:8080/"
        },
        "id": "VPDSe8FSlBI1",
        "outputId": "a2d74c30-d3ea-4d98-99f5-d61a89b69c39"
      },
      "execution_count": 19,
      "outputs": [
        {
          "output_type": "stream",
          "name": "stdout",
          "text": [
            "[1. 2. 3. 4.]\n"
          ]
        }
      ]
    },
    {
      "cell_type": "code",
      "source": [
        "#create a tensor from numpy array\n",
        "y=torch.from_numpy(q)\n",
        "print(y)"
      ],
      "metadata": {
        "colab": {
          "base_uri": "https://localhost:8080/"
        },
        "id": "zDlZT2Xdl3t6",
        "outputId": "001bf2a7-f037-4f45-8f38-db4d02d9ff6f"
      },
      "execution_count": 26,
      "outputs": [
        {
          "output_type": "stream",
          "name": "stdout",
          "text": [
            "tensor([1., 2., 3., 4.], dtype=torch.float64)\n"
          ]
        }
      ]
    },
    {
      "cell_type": "code",
      "source": [
        "print(q.dtype)\n",
        "print(y.dtype)"
      ],
      "metadata": {
        "colab": {
          "base_uri": "https://localhost:8080/"
        },
        "id": "9sNLlHEnvcvn",
        "outputId": "2b9c9cb3-1a9a-4f0e-947a-b4f60b81195d"
      },
      "execution_count": 28,
      "outputs": [
        {
          "output_type": "stream",
          "name": "stdout",
          "text": [
            "float64\n",
            "torch.float64\n"
          ]
        }
      ]
    },
    {
      "cell_type": "code",
      "source": [
        "#convert the PyTorch tensors to NumPy \n",
        "a=y.numpy()\n",
        "print(a)\n",
        "print(a.dtype)\n"
      ],
      "metadata": {
        "colab": {
          "base_uri": "https://localhost:8080/"
        },
        "id": "4XMKZSRRvmoG",
        "outputId": "d0f47aa9-93d7-4ff7-99dd-f611c925f325"
      },
      "execution_count": 30,
      "outputs": [
        {
          "output_type": "stream",
          "name": "stdout",
          "text": [
            "[1. 2. 3. 4.]\n",
            "float64\n"
          ]
        }
      ]
    },
    {
      "cell_type": "markdown",
      "source": [
        "#Pytorch instead of NumPy is mainly for two reasons:\n",
        "\n",
        "* **AutoGrad**\n",
        "The ability to compute gradients for tensor operations is a powerful ability that is essential for training neural networks and perform backpropagation.\n",
        "\n",
        "* **GPU Support**: \n",
        "While working with massive datasets and large models, PyTorch tensor operations are carried out in Graphical Processing Units (GPUs), which will reduce the amount of time takes by ordinary CPUs by 40x to 50x.\n",
        "\n",
        "\n",
        "Hence PyTorch is a very powerful Deep learning library widely used in the research and development community for its expressivity and pythonic nature."
      ],
      "metadata": {
        "id": "NHgSvXQpwNVO"
      }
    },
    {
      "cell_type": "code",
      "source": [
        ""
      ],
      "metadata": {
        "id": "szFKEaOrv-9W"
      },
      "execution_count": null,
      "outputs": []
    }
  ]
}